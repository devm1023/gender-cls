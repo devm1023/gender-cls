{
 "cells": [
  {
   "cell_type": "markdown",
   "metadata": {},
   "source": [
    "# Gender Classification using SIFT Encoded Vector Dataset\n",
    "\n",
    "### Problem statement\n",
    "Given the training dataset of SIFT encoded images of people, build a classifier to predict the gender. This was a part of one of the offline (in person) hackathons I participated. The scoring metric was AUC.\n",
    "\n",
    "### Dataset\n",
    "Training, Validation and Test datasets were provided. Predictions were to be done on the test set and submitted for evaluation. The Training and Validation dataset is a csv file with Id, SIFT encoded vector representation of images (256 columns) and Label. The dataset has about 24K rows and 258 columns. The dataset was skewed with almost 80% of the rows for one class (Label 1) and 20% for the other (Label 0).\n",
    "\n",
    "### Approach\n",
    "* Did train split into train and cross validation for evaluation. Didn't use Validation set right in the begining. \n",
    "* Balance out the dataset:\n",
    "    * This can be done in one of the two ways...\n",
    "        * Remove class 1 rows to bring down the row count close to that of class 2. This approach can be chosen if training size/hardware limitation is a problem and unless this won't reduce dataset drastically.\n",
    "        * Oversample for class 2 rows by adding copy of the randomly chosen rows repeatedly to bring the count close to that of class 1. Shuffle records in class 2, to prevent any kind of uniformity introduced while adding the rows repeatedly.\n",
    "* Dimensionality Reduction based on Feature importances:\n",
    "    * In any dataset, even before thinking of feature engineering, we should first identify the importance of all the features. Not all of them are useful. And limiting to the most important features always makes a lot of difference. \n",
    "    * I used PCA and SelectKBest. Both gave almost similar results.\n",
    "    * I did this by choosing _n_ best features using SelectKBest() iteratively for _n_ ranging between 30 to 256, with stepping interval of 5. This gave me the best _n_ based on the highest AUC score.\n",
    "\n",
    "#### Possible Improvements\n",
    "* Use stratified sampling for cross validation\n",
    "* Use PCA and SelectKBest together to find the best features, stepping at every feature instead of having bigger steps\n",
    "* Perform grid search to tune hyper parameters better\n",
    "* Use Model Stacking with other types of classifiers like SVM, ANN, etc.\n",
    "* Consider Autoencoders for feature extraction and dimensionality reduction\n",
    "\n",
    "### Quick info about SIFT\n",
    "SIFT stands for Scale-invariant feature transform. SIFT is used to encode images into vectors. This representation is different from raw flattened out pixels that are widely used. The main shortcoming of the raw pixel representation of images is that, the pixel data doesn't preserve/represent similarities across images. For instance, even the slight change in the image's aspect ratio or angle of view changes the pixels drastically, even when the image is same.\n",
    "\n",
    "#### References\n",
    "* [Scale-invariant feature transform - Wikipedia](https://en.wikipedia.org/wiki/Scale-invariant_feature_transform) "
   ]
  },
  {
   "cell_type": "code",
   "execution_count": 1,
   "metadata": {},
   "outputs": [],
   "source": [
    "from xgboost import XGBClassifier\n",
    "from sklearn import preprocessing\n",
    "from sklearn import metrics\n",
    "from sklearn.model_selection import train_test_split\n",
    "from sklearn.feature_selection import SelectKBest, f_classif\n",
    "from sklearn.utils import shuffle\n",
    "import pandas as pd\n",
    "import numpy as np\n",
    "import os\n",
    "import matplotlib.pyplot as plt\n",
    "from xgboost import plot_importance"
   ]
  },
  {
   "cell_type": "code",
   "execution_count": 2,
   "metadata": {
    "collapsed": true
   },
   "outputs": [],
   "source": [
    "trainPath = os.getcwd() + '\\\\dataset\\\\Train.csv'\n",
    "testPath = os.getcwd() + '\\\\dataset\\\\TestData.csv'\n",
    "validationPath = os.getcwd() + '\\\\dataset\\Validate.csv'\n",
    "\n",
    "trainDf = pd.read_csv(trainPath)\n",
    "testDf = pd.read_csv(testPath)\n",
    "validateDf = pd.read_csv(validationPath)"
   ]
  },
  {
   "cell_type": "code",
   "execution_count": 3,
   "metadata": {},
   "outputs": [
    {
     "data": {
      "text/plain": [
       "(23491, 258)"
      ]
     },
     "execution_count": 3,
     "metadata": {},
     "output_type": "execute_result"
    }
   ],
   "source": [
    "trainDf.shape"
   ]
  },
  {
   "cell_type": "code",
   "execution_count": 4,
   "metadata": {},
   "outputs": [
    {
     "data": {
      "text/plain": [
       "(8192, 257)"
      ]
     },
     "execution_count": 4,
     "metadata": {},
     "output_type": "execute_result"
    }
   ],
   "source": [
    "testDf.shape"
   ]
  },
  {
   "cell_type": "code",
   "execution_count": 5,
   "metadata": {},
   "outputs": [
    {
     "data": {
      "text/plain": [
       "(4567, 258)"
      ]
     },
     "execution_count": 5,
     "metadata": {},
     "output_type": "execute_result"
    }
   ],
   "source": [
    "validateDf.shape"
   ]
  },
  {
   "cell_type": "code",
   "execution_count": 6,
   "metadata": {},
   "outputs": [
    {
     "data": {
      "text/plain": [
       "1    18792\n",
       "0     4699\n",
       "Name: Label, dtype: int64"
      ]
     },
     "execution_count": 6,
     "metadata": {},
     "output_type": "execute_result"
    }
   ],
   "source": [
    "trainDf['Label'].value_counts()"
   ]
  },
  {
   "cell_type": "code",
   "execution_count": 7,
   "metadata": {},
   "outputs": [
    {
     "name": "stdout",
     "output_type": "stream",
     "text": [
      "Male   : 18792, 50.1240%\n",
      "Female : 18699, 49.8760%\n"
     ]
    }
   ],
   "source": [
    "train = trainDf\n",
    "test = testDf\n",
    "valid = validateDf\n",
    "\n",
    "for i in range(5):\n",
    "    train = train.append(train.loc[train['Label'] == 0].sample(2800))\n",
    "\n",
    "train = shuffle(train)\n",
    "\n",
    "sample_size = train['Label'].shape[0]\n",
    "distribution = train['Label'].value_counts()\n",
    "\n",
    "male_percent = (distribution[1]/sample_size) * 100\n",
    "female_percent = (distribution[0]/sample_size) * 100\n",
    "\n",
    "print('Male   : ' + str(distribution[1]) + ', ' + (\"{0:.4f}\".format(male_percent)) + '%')\n",
    "print('Female : ' + str(distribution[0]) + ', ' + (\"{0:.4f}\".format(female_percent)) + '%')"
   ]
  },
  {
   "cell_type": "code",
   "execution_count": 8,
   "metadata": {
    "collapsed": true
   },
   "outputs": [],
   "source": [
    "X = np.array(train.drop(['Id', 'Label'], 1))\n",
    "y = np.array(train['Label'])\n",
    "X = preprocessing.scale(X)\n",
    "\n",
    "X_Valid = np.array(validateDf.drop(['Id', 'Label'], 1))\n",
    "y_Valid = np.array(validateDf['Label'])\n",
    "X_Valid = preprocessing.scale(X_Valid)\n",
    "\n",
    "finalTest = np.array(testDf.drop(['Id'], 1))\n",
    "finalTest = preprocessing.scale(finalTest)\n",
    "\n",
    "X_train, X_test, y_train, y_test = train_test_split(X, y, test_size=0.3)"
   ]
  },
  {
   "cell_type": "code",
   "execution_count": 9,
   "metadata": {},
   "outputs": [
    {
     "name": "stdout",
     "output_type": "stream",
     "text": [
      "Training complete\n"
     ]
    }
   ],
   "source": [
    "xgClf = XGBClassifier(\n",
    "            base_score=0.5,\n",
    "            colsample_bylevel=1,\n",
    "            colsample_bytree=1,\n",
    "            gamma=1,\n",
    "            learning_rate=0.1,\n",
    "            max_delta_step=0,\n",
    "            max_depth=3,\n",
    "            min_child_weight=1,\n",
    "            missing=None,\n",
    "            n_estimators=500,\n",
    "            nthread=-1,\n",
    "            objective='binary:logistic',\n",
    "            reg_alpha=0,\n",
    "            reg_lambda=1,\n",
    "            scale_pos_weight=1,\n",
    "            seed=0,\n",
    "            silent=False,\n",
    "            subsample=1)\n",
    "\n",
    "xgClf.fit(X_train, y_train, eval_metric='auc', verbose=True)\n",
    "print('Training complete')"
   ]
  },
  {
   "cell_type": "code",
   "execution_count": 10,
   "metadata": {},
   "outputs": [
    {
     "name": "stdout",
     "output_type": "stream",
     "text": [
      "ROC_AUC: 0.9857892578039102\n"
     ]
    },
    {
     "data": {
      "text/html": [
       "<div>\n",
       "<style>\n",
       "    .dataframe thead tr:only-child th {\n",
       "        text-align: right;\n",
       "    }\n",
       "\n",
       "    .dataframe thead th {\n",
       "        text-align: left;\n",
       "    }\n",
       "\n",
       "    .dataframe tbody tr th {\n",
       "        vertical-align: top;\n",
       "    }\n",
       "</style>\n",
       "<table border=\"1\" class=\"dataframe\">\n",
       "  <thead>\n",
       "    <tr style=\"text-align: right;\">\n",
       "      <th></th>\n",
       "      <th>0</th>\n",
       "      <th>1</th>\n",
       "    </tr>\n",
       "  </thead>\n",
       "  <tbody>\n",
       "    <tr>\n",
       "      <th>0</th>\n",
       "      <td>0.018419</td>\n",
       "      <td>0.981581</td>\n",
       "    </tr>\n",
       "    <tr>\n",
       "      <th>1</th>\n",
       "      <td>0.975553</td>\n",
       "      <td>0.024447</td>\n",
       "    </tr>\n",
       "    <tr>\n",
       "      <th>2</th>\n",
       "      <td>0.992351</td>\n",
       "      <td>0.007649</td>\n",
       "    </tr>\n",
       "    <tr>\n",
       "      <th>3</th>\n",
       "      <td>0.041392</td>\n",
       "      <td>0.958608</td>\n",
       "    </tr>\n",
       "    <tr>\n",
       "      <th>4</th>\n",
       "      <td>0.283994</td>\n",
       "      <td>0.716006</td>\n",
       "    </tr>\n",
       "  </tbody>\n",
       "</table>\n",
       "</div>"
      ],
      "text/plain": [
       "          0         1\n",
       "0  0.018419  0.981581\n",
       "1  0.975553  0.024447\n",
       "2  0.992351  0.007649\n",
       "3  0.041392  0.958608\n",
       "4  0.283994  0.716006"
      ]
     },
     "execution_count": 10,
     "metadata": {},
     "output_type": "execute_result"
    }
   ],
   "source": [
    "preds = pd.DataFrame(xgClf.predict_proba(X_test))\n",
    "print('ROC_AUC: ' + metrics.roc_auc_score(np.array(y_test), np.array(preds[[1]])).astype(str))\n",
    "pd.DataFrame(preds).head(5)"
   ]
  },
  {
   "cell_type": "code",
   "execution_count": 11,
   "metadata": {},
   "outputs": [
    {
     "data": {
      "image/png": "[encoded data removed]",
      "text/plain": [
       "<matplotlib.figure.Figure at 0x29e63fe3fd0>"
      ]
     },
     "metadata": {},
     "output_type": "display_data"
    }
   ],
   "source": [
    "# XGBoost inbuilt plot\n",
    "plot_importance(xgClf)\n",
    "plt.show()"
   ]
  },
  {
   "cell_type": "code",
   "execution_count": 12,
   "metadata": {},
   "outputs": [
    {
     "data": {
      "image/png": "[encoded data removed]",
      "text/plain": [
       "<matplotlib.figure.Figure at 0x29e005e5dd8>"
      ]
     },
     "metadata": {},
     "output_type": "display_data"
    }
   ],
   "source": [
    "# Manually plotting using matplotlib\n",
    "plt.bar(range(len(xgClf.feature_importances_)), xgClf.feature_importances_)\n",
    "plt.show()"
   ]
  },
  {
   "cell_type": "code",
   "execution_count": 13,
   "metadata": {},
   "outputs": [
    {
     "name": "stdout",
     "output_type": "stream",
     "text": [
      "Selecting 110 best...\n",
      "Training with 110 best...\n",
      "Transform, predict...\n",
      "Scoring...\n",
      "Features=110.000000, n=110, Accuracy: 95.14%, auc: 0.986324, roc: 0.985504\n",
      "Best Features=110.000000\n"
     ]
    }
   ],
   "source": [
    "#Reduced the range to run this quickly and get outputs to upload to GitHub\n",
    "features = [110] #[i for i in range(110, 250, 10)]\n",
    "features = np.array(features)\n",
    "optFeat = -1\n",
    "maxRoc = -1\n",
    "\n",
    "for imp_feat in features:\n",
    "    print('Selecting ' + str(imp_feat) + ' best...')\n",
    "    feat_selector = SelectKBest(score_func=f_classif, k=imp_feat)\n",
    "    fit = feat_selector.fit(X_train, y_train)\n",
    "    X_train_train = fit.transform(X_train)\n",
    "    \n",
    "    print('Training with ' + str(imp_feat) + ' best...')\n",
    "    xgClf.fit(X_train_train, y_train, eval_metric='auc', verbose=True)\n",
    "\n",
    "    print('Transform, predict...')\n",
    "    X_test_trans = fit.transform(X_test)\n",
    "    y_test_pred = xgClf.predict_proba(X_test_trans)\n",
    "    predictions = [round(value[1]) for value in y_test_pred]\n",
    "    y_test_pred = [value[1] for value in y_test_pred]\n",
    "    \n",
    "    print('Scoring...')\n",
    "    accuracy = metrics.accuracy_score(y_test, predictions)\n",
    "    auc = metrics.average_precision_score(np.array(y_test), np.array(y_test_pred))\n",
    "    roc = metrics.roc_auc_score(np.array(y_test), np.array(y_test_pred))\n",
    "    \n",
    "    if (roc > maxRoc):\n",
    "        maxRoc = roc\n",
    "        optFeat = imp_feat\n",
    "    \n",
    "    print(\"Features=%.6f, n=%d, Accuracy: %.2f%%, auc: %.6f, roc: %.6f\" % (imp_feat, X_test_trans.shape[1], accuracy*100.0, auc, roc))\n",
    "\n",
    "print(\"Best Features=%.6f\" %(optFeat))"
   ]
  },
  {
   "cell_type": "code",
   "execution_count": 14,
   "metadata": {},
   "outputs": [],
   "source": [
    "np.set_printoptions(precision=6)\n",
    "feat_selector = SelectKBest(score_func=f_classif, k=110)\n",
    "fit = feat_selector.fit(X_train, y_train)"
   ]
  },
  {
   "cell_type": "code",
   "execution_count": 15,
   "metadata": {
    "collapsed": true
   },
   "outputs": [],
   "source": [
    "#X_train_trans = fit.transform(X_train)\n",
    "X_train_trans = X_train\n",
    "xgClf.fit(X_train_trans, y_train, eval_metric='auc', verbose=True)\n",
    "scoreX = None\n",
    "scoreY = None\n",
    "scoreP = None"
   ]
  },
  {
   "cell_type": "code",
   "execution_count": 16,
   "metadata": {},
   "outputs": [
    {
     "data": {
      "text/html": [
       "<div>\n",
       "<style>\n",
       "    .dataframe thead tr:only-child th {\n",
       "        text-align: right;\n",
       "    }\n",
       "\n",
       "    .dataframe thead th {\n",
       "        text-align: left;\n",
       "    }\n",
       "\n",
       "    .dataframe tbody tr th {\n",
       "        vertical-align: top;\n",
       "    }\n",
       "</style>\n",
       "<table border=\"1\" class=\"dataframe\">\n",
       "  <thead>\n",
       "    <tr style=\"text-align: right;\">\n",
       "      <th></th>\n",
       "      <th>0</th>\n",
       "      <th>1</th>\n",
       "    </tr>\n",
       "  </thead>\n",
       "  <tbody>\n",
       "    <tr>\n",
       "      <th>0</th>\n",
       "      <td>0.018419</td>\n",
       "      <td>0.981581</td>\n",
       "    </tr>\n",
       "    <tr>\n",
       "      <th>1</th>\n",
       "      <td>0.975553</td>\n",
       "      <td>0.024447</td>\n",
       "    </tr>\n",
       "    <tr>\n",
       "      <th>2</th>\n",
       "      <td>0.992351</td>\n",
       "      <td>0.007649</td>\n",
       "    </tr>\n",
       "    <tr>\n",
       "      <th>3</th>\n",
       "      <td>0.041392</td>\n",
       "      <td>0.958608</td>\n",
       "    </tr>\n",
       "    <tr>\n",
       "      <th>4</th>\n",
       "      <td>0.283994</td>\n",
       "      <td>0.716006</td>\n",
       "    </tr>\n",
       "  </tbody>\n",
       "</table>\n",
       "</div>"
      ],
      "text/plain": [
       "          0         1\n",
       "0  0.018419  0.981581\n",
       "1  0.975553  0.024447\n",
       "2  0.992351  0.007649\n",
       "3  0.041392  0.958608\n",
       "4  0.283994  0.716006"
      ]
     },
     "execution_count": 16,
     "metadata": {},
     "output_type": "execute_result"
    }
   ],
   "source": [
    "#X_test_trans = fit.transform(X_test)\n",
    "X_test_trans = X_test\n",
    "pred_test = xgClf.predict_proba(X_test_trans)\n",
    "scoreX = X_test_trans\n",
    "scoreY = y_test\n",
    "scoreP = pred_test\n",
    "pd.DataFrame(pred_test).head(5)"
   ]
  },
  {
   "cell_type": "code",
   "execution_count": 17,
   "metadata": {},
   "outputs": [
    {
     "data": {
      "text/html": [
       "<div>\n",
       "<style>\n",
       "    .dataframe thead tr:only-child th {\n",
       "        text-align: right;\n",
       "    }\n",
       "\n",
       "    .dataframe thead th {\n",
       "        text-align: left;\n",
       "    }\n",
       "\n",
       "    .dataframe tbody tr th {\n",
       "        vertical-align: top;\n",
       "    }\n",
       "</style>\n",
       "<table border=\"1\" class=\"dataframe\">\n",
       "  <thead>\n",
       "    <tr style=\"text-align: right;\">\n",
       "      <th></th>\n",
       "      <th>0</th>\n",
       "      <th>1</th>\n",
       "    </tr>\n",
       "  </thead>\n",
       "  <tbody>\n",
       "    <tr>\n",
       "      <th>0</th>\n",
       "      <td>0.023477</td>\n",
       "      <td>0.976523</td>\n",
       "    </tr>\n",
       "    <tr>\n",
       "      <th>1</th>\n",
       "      <td>0.010117</td>\n",
       "      <td>0.989883</td>\n",
       "    </tr>\n",
       "    <tr>\n",
       "      <th>2</th>\n",
       "      <td>0.025596</td>\n",
       "      <td>0.974404</td>\n",
       "    </tr>\n",
       "    <tr>\n",
       "      <th>3</th>\n",
       "      <td>0.996968</td>\n",
       "      <td>0.003032</td>\n",
       "    </tr>\n",
       "    <tr>\n",
       "      <th>4</th>\n",
       "      <td>0.181958</td>\n",
       "      <td>0.818042</td>\n",
       "    </tr>\n",
       "  </tbody>\n",
       "</table>\n",
       "</div>"
      ],
      "text/plain": [
       "          0         1\n",
       "0  0.023477  0.976523\n",
       "1  0.010117  0.989883\n",
       "2  0.025596  0.974404\n",
       "3  0.996968  0.003032\n",
       "4  0.181958  0.818042"
      ]
     },
     "execution_count": 17,
     "metadata": {},
     "output_type": "execute_result"
    }
   ],
   "source": [
    "#X_Valid_trans = fit.transform(X_Valid)\n",
    "X_Valid_trans = X_Valid\n",
    "pred_valid = xgClf.predict_proba(X_Valid_trans)\n",
    "scoreX = X_Valid_trans\n",
    "scoreY = y_Valid\n",
    "scoreP = pred_valid\n",
    "pd.DataFrame(pred_valid).head(5)"
   ]
  },
  {
   "cell_type": "code",
   "execution_count": 18,
   "metadata": {},
   "outputs": [
    {
     "data": {
      "text/html": [
       "<div>\n",
       "<style>\n",
       "    .dataframe thead tr:only-child th {\n",
       "        text-align: right;\n",
       "    }\n",
       "\n",
       "    .dataframe thead th {\n",
       "        text-align: left;\n",
       "    }\n",
       "\n",
       "    .dataframe tbody tr th {\n",
       "        vertical-align: top;\n",
       "    }\n",
       "</style>\n",
       "<table border=\"1\" class=\"dataframe\">\n",
       "  <thead>\n",
       "    <tr style=\"text-align: right;\">\n",
       "      <th></th>\n",
       "      <th>0</th>\n",
       "      <th>1</th>\n",
       "    </tr>\n",
       "  </thead>\n",
       "  <tbody>\n",
       "    <tr>\n",
       "      <th>0</th>\n",
       "      <td>0.987994</td>\n",
       "      <td>0.012006</td>\n",
       "    </tr>\n",
       "    <tr>\n",
       "      <th>1</th>\n",
       "      <td>0.012539</td>\n",
       "      <td>0.987461</td>\n",
       "    </tr>\n",
       "    <tr>\n",
       "      <th>2</th>\n",
       "      <td>0.034119</td>\n",
       "      <td>0.965881</td>\n",
       "    </tr>\n",
       "    <tr>\n",
       "      <th>3</th>\n",
       "      <td>0.468343</td>\n",
       "      <td>0.531657</td>\n",
       "    </tr>\n",
       "    <tr>\n",
       "      <th>4</th>\n",
       "      <td>0.005880</td>\n",
       "      <td>0.994120</td>\n",
       "    </tr>\n",
       "  </tbody>\n",
       "</table>\n",
       "</div>"
      ],
      "text/plain": [
       "          0         1\n",
       "0  0.987994  0.012006\n",
       "1  0.012539  0.987461\n",
       "2  0.034119  0.965881\n",
       "3  0.468343  0.531657\n",
       "4  0.005880  0.994120"
      ]
     },
     "execution_count": 18,
     "metadata": {},
     "output_type": "execute_result"
    }
   ],
   "source": [
    "#finalTest_trans = fit.transform(finalTest)\n",
    "finalTest_trans = finalTest\n",
    "pred_finalTest = xgClf.predict_proba(finalTest_trans)\n",
    "scoreX = finalTest_trans\n",
    "scoreY = None\n",
    "scoreP = pred_finalTest\n",
    "pd.DataFrame(pred_finalTest).head(5)"
   ]
  },
  {
   "cell_type": "code",
   "execution_count": 19,
   "metadata": {},
   "outputs": [
    {
     "name": "stdout",
     "output_type": "stream",
     "text": [
      "Test set cannot be scored\n"
     ]
    }
   ],
   "source": [
    "def predict_Score(X, y, p):\n",
    "    predictions_ = [round(value[1]) for value in p]\n",
    "    accuracy_ = metrics.accuracy_score(y, predictions_)\n",
    "    auc_ = metrics.average_precision_score(np.array(y), np.array(p[:,1]))\n",
    "    roc_ = metrics.roc_auc_score(np.array(y), np.array(p[:,1]))\n",
    "    print(\"Final Thresh: %.6f, n: %d, Accuracy: %.2f%%, auc:%.6f, roc_auc: %.6f\" % (258, X.shape[1], accuracy_*100.0, auc_, roc_))\n",
    "\n",
    "if(scoreX != None and scoreY != None and scoreP != None):\n",
    "    predict_Score(scoreX, scoreY, scoreP)\n",
    "else:\n",
    "    print('Test set cannot be scored')"
   ]
  },
  {
   "cell_type": "code",
   "execution_count": 20,
   "metadata": {},
   "outputs": [
    {
     "data": {
      "text/html": [
       "<div>\n",
       "<style>\n",
       "    .dataframe thead tr:only-child th {\n",
       "        text-align: right;\n",
       "    }\n",
       "\n",
       "    .dataframe thead th {\n",
       "        text-align: left;\n",
       "    }\n",
       "\n",
       "    .dataframe tbody tr th {\n",
       "        vertical-align: top;\n",
       "    }\n",
       "</style>\n",
       "<table border=\"1\" class=\"dataframe\">\n",
       "  <thead>\n",
       "    <tr style=\"text-align: right;\">\n",
       "      <th></th>\n",
       "      <th>Id</th>\n",
       "      <th>1</th>\n",
       "    </tr>\n",
       "  </thead>\n",
       "  <tbody>\n",
       "    <tr>\n",
       "      <th>0</th>\n",
       "      <td>19abee57-99ca-5636-9118-e3bb58b88848</td>\n",
       "      <td>0.012006</td>\n",
       "    </tr>\n",
       "    <tr>\n",
       "      <th>1</th>\n",
       "      <td>3d6f9293-ac9f-5fad-9cc5-f47bbe25bdef</td>\n",
       "      <td>0.987461</td>\n",
       "    </tr>\n",
       "    <tr>\n",
       "      <th>2</th>\n",
       "      <td>2599edee-e030-5b23-9aaa-5338cdf2a6e9</td>\n",
       "      <td>0.965881</td>\n",
       "    </tr>\n",
       "    <tr>\n",
       "      <th>3</th>\n",
       "      <td>503a89e5-06fd-5ae0-a644-d1aa172faa70</td>\n",
       "      <td>0.531657</td>\n",
       "    </tr>\n",
       "    <tr>\n",
       "      <th>4</th>\n",
       "      <td>c3b2305e-de61-5b62-ae6b-52c396d7b247</td>\n",
       "      <td>0.994120</td>\n",
       "    </tr>\n",
       "  </tbody>\n",
       "</table>\n",
       "</div>"
      ],
      "text/plain": [
       "                                     Id         1\n",
       "0  19abee57-99ca-5636-9118-e3bb58b88848  0.012006\n",
       "1  3d6f9293-ac9f-5fad-9cc5-f47bbe25bdef  0.987461\n",
       "2  2599edee-e030-5b23-9aaa-5338cdf2a6e9  0.965881\n",
       "3  503a89e5-06fd-5ae0-a644-d1aa172faa70  0.531657\n",
       "4  c3b2305e-de61-5b62-ae6b-52c396d7b247  0.994120"
      ]
     },
     "execution_count": 20,
     "metadata": {},
     "output_type": "execute_result"
    }
   ],
   "source": [
    "sub = pd.DataFrame(pred_finalTest)\n",
    "sub.insert(loc=0, column='Id', value=testDf['Id'])\n",
    "sub[['Id',1]].to_csv('result.csv', index=False, header=['Id', 'Score'])\n",
    "sub[['Id',1]].head(5)"
   ]
  },
  {
   "cell_type": "code",
   "execution_count": null,
   "metadata": {
    "collapsed": true
   },
   "outputs": [],
   "source": []
  }
 ],
 "metadata": {
  "kernelspec": {
   "display_name": "Python 3",
   "language": "python",
   "name": "python3"
  },
  "language_info": {
   "codemirror_mode": {
    "name": "ipython",
    "version": 3
   },
   "file_extension": ".py",
   "mimetype": "text/x-python",
   "name": "python",
   "nbconvert_exporter": "python",
   "pygments_lexer": "ipython3",
   "version": "3.6.1"
  }
 },
 "nbformat": 4,
 "nbformat_minor": 2
}
